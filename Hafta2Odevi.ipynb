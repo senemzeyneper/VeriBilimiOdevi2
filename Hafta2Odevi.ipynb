{
 "cells": [
  {
   "cell_type": "markdown",
   "id": "a7053d2c-2f48-4284-a52c-9bd541861ffc",
   "metadata": {},
   "source": [
    "## Soru 1-Sayı Analizi"
   ]
  },
  {
   "cell_type": "code",
   "execution_count": 50,
   "id": "e860ccd3-2997-44c5-ba27-20d9ed5291b4",
   "metadata": {},
   "outputs": [
    {
     "name": "stdin",
     "output_type": "stream",
     "text": [
      "Bir sayı giriniz : -12\n"
     ]
    }
   ],
   "source": [
    "kullaniciSayi = int(input(\"Bir sayı giriniz :\"))"
   ]
  },
  {
   "cell_type": "code",
   "execution_count": 52,
   "id": "376cb460-59d4-4399-bdd5-a527fa0f81f1",
   "metadata": {},
   "outputs": [
    {
     "name": "stdout",
     "output_type": "stream",
     "text": [
      "Negatif çift\n"
     ]
    }
   ],
   "source": [
    "if kullaniciSayi > 0:\n",
    "    if kullaniciSayi % 2 == 0:\n",
    "        print(\"Pozitif Çift\")\n",
    "    else:\n",
    "        print(\"Pozitif Tek\")\n",
    "elif kullaniciSayi < 0:\n",
    "    if kullaniciSayi % 2 == 0:\n",
    "        print(\"Negatif çift\")\n",
    "    else:\n",
    "        print(\"Negatif Tek\")\n",
    "else: \n",
    "    print(\"Sayı sıfırdır\")"
   ]
  },
  {
   "cell_type": "markdown",
   "id": "2a4bb6e8-f156-4a98-9904-98602dc1c237",
   "metadata": {},
   "source": [
    "## Soru 2-Harf Frekansı"
   ]
  },
  {
   "cell_type": "code",
   "execution_count": 55,
   "id": "440f5589-9aa9-4874-905a-0032c66795b7",
   "metadata": {},
   "outputs": [
    {
     "name": "stdin",
     "output_type": "stream",
     "text": [
      "Bir kelime girinzi : İstanbul\n"
     ]
    }
   ],
   "source": [
    "kullaniciKelime = input(\"Bir kelime girinzi :\")"
   ]
  },
  {
   "cell_type": "code",
   "execution_count": 57,
   "id": "7796f669-10b9-4af5-8047-e5e5c34cc82a",
   "metadata": {},
   "outputs": [
    {
     "name": "stdout",
     "output_type": "stream",
     "text": [
      "{'İ': 1, 's': 1, 't': 1, 'a': 1, 'n': 1, 'b': 1, 'u': 1, 'l': 1}\n"
     ]
    }
   ],
   "source": [
    "dictKelime = {}\n",
    "for harf in kullaniciKelime:\n",
    "    dictKelime[harf] = dictKelime.get(harf,0)+1\n",
    "print(dictKelime)"
   ]
  },
  {
   "cell_type": "markdown",
   "id": "251e14be-29e9-4ac3-b6d8-f271e94cb4af",
   "metadata": {},
   "source": [
    "## Soru 3- Şifre Kontrolü"
   ]
  },
  {
   "cell_type": "code",
   "execution_count": 60,
   "id": "4a7a31ec-69ac-4171-8fd8-3f5a5d449b70",
   "metadata": {},
   "outputs": [
    {
     "name": "stdin",
     "output_type": "stream",
     "text": [
      "Bir şifre giriniz : yenisifre123A\n"
     ]
    }
   ],
   "source": [
    "kullaniciSifre = input(\"Bir şifre giriniz :\")"
   ]
  },
  {
   "cell_type": "code",
   "execution_count": 62,
   "id": "871a4b3e-f995-414b-bd6a-899d4d00ff30",
   "metadata": {},
   "outputs": [
    {
     "name": "stdout",
     "output_type": "stream",
     "text": [
      "Şifreniz onaylanmıştır.\n"
     ]
    }
   ],
   "source": [
    "if len(kullaniciSifre) < 8:\n",
    "    print(\"En az 8 karakter olmalı.\")\n",
    "elif kullaniciSifre.islower():\n",
    "    print(\"En az 1 büyük harften oluşmalı\")\n",
    "elif kullaniciSifre.isalpha():\n",
    "    print(\"En az 1 rakam olmalı\")\n",
    "else:\n",
    "    print(\"Şifreniz onaylanmıştır.\")"
   ]
  },
  {
   "cell_type": "markdown",
   "id": "5e99ab55-718a-42f9-92de-49837fefd0b5",
   "metadata": {},
   "source": [
    "## Soru 4- Liste İşlemleri"
   ]
  },
  {
   "cell_type": "code",
   "execution_count": 65,
   "id": "fae23333-7cb4-4283-b7a5-64f0404fdbf6",
   "metadata": {},
   "outputs": [],
   "source": [
    "benimListem = [12,4,9,25,30,7,18]"
   ]
  },
  {
   "cell_type": "code",
   "execution_count": 67,
   "id": "0fd03a93-8939-4a10-a2d4-2e33355cd74e",
   "metadata": {},
   "outputs": [
    {
     "name": "stdout",
     "output_type": "stream",
     "text": [
      "15.0\n"
     ]
    }
   ],
   "source": [
    "toplam = sum(benimListem)\n",
    "ort = toplam / len(benimListem)\n",
    "print(ort)"
   ]
  },
  {
   "cell_type": "code",
   "execution_count": 69,
   "id": "73c8bc22-b684-4d3d-87ae-18fbcfcad891",
   "metadata": {},
   "outputs": [
    {
     "name": "stdout",
     "output_type": "stream",
     "text": [
      "[25, 30, 18]\n"
     ]
    }
   ],
   "source": [
    "yeniListe = []\n",
    "for sayi in benimListem:\n",
    "    if ort < sayi:\n",
    "        yeniListe.append(sayi)\n",
    "print(yeniListe)"
   ]
  },
  {
   "cell_type": "markdown",
   "id": "a6321921-462a-47e2-be52-e4e03335c9dc",
   "metadata": {},
   "source": [
    "## Soru 5- Nested Loop"
   ]
  },
  {
   "cell_type": "code",
   "execution_count": 72,
   "id": "b640d275-aff0-4fcf-8ba2-904b6f80858e",
   "metadata": {},
   "outputs": [
    {
     "name": "stdout",
     "output_type": "stream",
     "text": [
      "*\n",
      "**\n",
      "***\n",
      "****\n",
      "*****\n"
     ]
    }
   ],
   "source": [
    "for i in range(1,6):\n",
    "    for j in range(i):\n",
    "        print(\"*\", end = \"\")\n",
    "    print()   "
   ]
  },
  {
   "cell_type": "markdown",
   "id": "ad42d46f-d526-468f-86a8-4a915a93f161",
   "metadata": {},
   "source": [
    "## Soru 6-While Döngüsü"
   ]
  },
  {
   "cell_type": "code",
   "execution_count": 75,
   "id": "7a76fb50-15ac-4191-9136-b734f15fe40e",
   "metadata": {},
   "outputs": [
    {
     "name": "stdin",
     "output_type": "stream",
     "text": [
      "Yeni sayı giriniz : 15\n",
      "Yeni sayı giriniz : 5\n",
      "Yeni sayı giriniz : 12\n",
      "Yeni sayı giriniz : 18\n",
      "Yeni sayı giriniz : 0\n"
     ]
    },
    {
     "name": "stdout",
     "output_type": "stream",
     "text": [
      "Sayıların toplamı : 50\n",
      "Sayıların ortalaması : 12.5\n"
     ]
    }
   ],
   "source": [
    "surekliListe = []\n",
    "b = 0\n",
    "toplam = 0\n",
    "while True:\n",
    "    surekliSayi = int(input(\"Yeni sayı giriniz :\"))\n",
    "    if surekliSayi == 0:\n",
    "        break\n",
    "    toplam = toplam + surekliSayi\n",
    "    b = b + 1\n",
    "ort = toplam / b\n",
    "print(f\"Sayıların toplamı : {toplam}\")\n",
    "print(f\"Sayıların ortalaması : {ort}\")"
   ]
  },
  {
   "cell_type": "markdown",
   "id": "3dbb5028-eac5-4af0-8eef-86ee5d33032f",
   "metadata": {},
   "source": [
    "## Soru 7-Palindrom Kontrolü "
   ]
  },
  {
   "cell_type": "code",
   "execution_count": 77,
   "id": "3c1cbfa7-e990-4aee-a618-3cc283a6ca78",
   "metadata": {},
   "outputs": [
    {
     "name": "stdin",
     "output_type": "stream",
     "text": [
      "Bir kelime giriniz : radar\n"
     ]
    }
   ],
   "source": [
    "kullanici2Kelime = input(\"Bir kelime giriniz :\")"
   ]
  },
  {
   "cell_type": "code",
   "execution_count": 79,
   "id": "ae9f817b-466d-4aa9-add5-5cbe1ee8f7a6",
   "metadata": {},
   "outputs": [
    {
     "name": "stdout",
     "output_type": "stream",
     "text": [
      "Palindrom bir kelimedir\n"
     ]
    }
   ],
   "source": [
    "kulaniciYeniKelime = kullanici2Kelime[::-1]\n",
    "if kullanici2Kelime == kulaniciYeniKelime:\n",
    "    print(\"Palindrom bir kelimedir\")\n",
    "else:\n",
    "    print(\"Palindron bir kelime değildir\")"
   ]
  },
  {
   "cell_type": "markdown",
   "id": "a065460b-7c19-4b97-8b2c-bf1504bf8c36",
   "metadata": {},
   "source": [
    "## Soru 8- List Comprehension"
   ]
  },
  {
   "cell_type": "code",
   "execution_count": 81,
   "id": "a161da89-4da4-43c0-a275-f093bdf5e4c7",
   "metadata": {},
   "outputs": [
    {
     "name": "stdout",
     "output_type": "stream",
     "text": [
      "[225, 900, 2025, 3600, 5625, 8100]\n"
     ]
    }
   ],
   "source": [
    "karelerinListesi = []\n",
    "for i in range(1,100):\n",
    "    if i % 3 == 0 and i % 5 == 0:\n",
    "        karelerinListesi.append(i**2)\n",
    "print(karelerinListesi)"
   ]
  },
  {
   "cell_type": "markdown",
   "id": "3d397b34-7337-41ae-b2c4-96b33f365139",
   "metadata": {},
   "source": [
    "## Soru 9- String İşlemleri"
   ]
  },
  {
   "cell_type": "code",
   "execution_count": 84,
   "id": "edf89877-b222-4239-a3cd-de6461db1405",
   "metadata": {},
   "outputs": [
    {
     "name": "stdout",
     "output_type": "stream",
     "text": [
      "['veri', 'bilimi', 'odevi']\n",
      "Veri Bilimi Odevi\n"
     ]
    }
   ],
   "source": [
    "benimCümlem = \"veri bilimi odevi\"\n",
    "yeniCümlem = benimCümlem.split()\n",
    "yeniString = benimCümlem.title()\n",
    "print(yeniCümlem)\n",
    "print(yeniString)"
   ]
  },
  {
   "cell_type": "markdown",
   "id": "5f5474a0-0c2f-4aa1-802e-85173f83d809",
   "metadata": {},
   "source": [
    "## Mini Proje"
   ]
  },
  {
   "cell_type": "code",
   "execution_count": 87,
   "id": "c376c281-7af6-48b5-8983-e1a11f242a8a",
   "metadata": {},
   "outputs": [
    {
     "name": "stdin",
     "output_type": "stream",
     "text": [
      "Film yorumu yapınız : güzeldi\n",
      "Film yorumu yapınız : iyi\n",
      "Film yorumu yapınız : kötü\n",
      "Film yorumu yapınız : çok iyi\n",
      "Film yorumu yapınız : ortalama\n",
      "Film yorumu yapınız : berbat\n"
     ]
    }
   ],
   "source": [
    "yorumListesi = []\n",
    "i = 0\n",
    "karakterUzunlugu = 0\n",
    "while i < 6:\n",
    "    kullaniciYorumu = input(\"Film yorumu yapınız :\")\n",
    "    yorumListesi.append(kullaniciYorumu)\n",
    "    karakterUzunlugu += len(kullaniciYorumu)\n",
    "    i = i + 1   "
   ]
  },
  {
   "cell_type": "code",
   "execution_count": 89,
   "id": "6a075779-3d3b-4c03-96ef-a48ba37d6231",
   "metadata": {},
   "outputs": [
    {
     "name": "stdout",
     "output_type": "stream",
     "text": [
      "['güzeldi', 'iyi', 'kötü', 'çok iyi', 'ortalama', 'berbat']\n",
      "Toplam yorum sayısı : 6\n",
      "En uzun yorum :ortalama\n",
      "En kısa yorum :iyi\n",
      "Ortlama karakter uzunluğu : 5.833333333333333\n"
     ]
    }
   ],
   "source": [
    "print(yorumListesi)\n",
    "print(f\"Toplam yorum sayısı : {len(yorumListesi)}\")\n",
    "print(\"En uzun yorum :\" + max(yorumListesi,key=len))\n",
    "print(\"En kısa yorum :\" + min(yorumListesi,key=len))\n",
    "print(f\"Ortlama karakter uzunluğu : {karakterUzunlugu / 6}\")"
   ]
  },
  {
   "cell_type": "code",
   "execution_count": 91,
   "id": "751cbce8-eb04-4eb6-81f1-295349428fa6",
   "metadata": {},
   "outputs": [
    {
     "name": "stdout",
     "output_type": "stream",
     "text": [
      "'İyi' geçen yorum sayısı :2\n"
     ]
    }
   ],
   "source": [
    "sayac = 0\n",
    "for yorum in yorumListesi:\n",
    "    if \"iyi\" in yorum.lower(): \n",
    "        sayac += 1\n",
    "\n",
    "print(f\"'İyi' geçen yorum sayısı :{sayac}\")"
   ]
  },
  {
   "cell_type": "code",
   "execution_count": null,
   "id": "babf05b2-e016-4daf-b419-82e4356805d9",
   "metadata": {},
   "outputs": [],
   "source": []
  },
  {
   "cell_type": "code",
   "execution_count": null,
   "id": "06df283f-ae4b-4cd0-8500-ec38b2d9dab5",
   "metadata": {},
   "outputs": [],
   "source": []
  }
 ],
 "metadata": {
  "kernelspec": {
   "display_name": "Python [conda env:base] *",
   "language": "python",
   "name": "conda-base-py"
  },
  "language_info": {
   "codemirror_mode": {
    "name": "ipython",
    "version": 3
   },
   "file_extension": ".py",
   "mimetype": "text/x-python",
   "name": "python",
   "nbconvert_exporter": "python",
   "pygments_lexer": "ipython3",
   "version": "3.12.4"
  }
 },
 "nbformat": 4,
 "nbformat_minor": 5
}
